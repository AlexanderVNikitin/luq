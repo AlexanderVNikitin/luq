{
 "cells": [
  {
   "cell_type": "code",
   "execution_count": 5,
   "metadata": {},
   "outputs": [],
   "source": [
    "from luq.models import LogitUncertaintyQuantifier"
   ]
  },
  {
   "cell_type": "code",
   "execution_count": null,
   "metadata": {},
   "outputs": [],
   "source": [
    "# Example usage:\n",
    "uq_model = LogitUncertaintyQuantifier(\n",
    "    model_name=\"mistralai/Mistral-7B-Instruct-v0.3\",\n",
    "    provider=\"huggingface\")\n",
    "prompt = \"Explain quantum entanglement.\"\n",
    "uncertainty = uq_model.estimate_uncertainty(prompt)\n",
    "\n",
    "print(f\"Entropy: {uncertainty['entropy']}\")\n",
    "print(f\"Variance: {uncertainty['variance']}\")"
   ]
  }
 ],
 "metadata": {
  "kernelspec": {
   "display_name": "venv310",
   "language": "python",
   "name": "python3"
  },
  "language_info": {
   "codemirror_mode": {
    "name": "ipython",
    "version": 3
   },
   "file_extension": ".py",
   "mimetype": "text/x-python",
   "name": "python",
   "nbconvert_exporter": "python",
   "pygments_lexer": "ipython3",
   "version": "3.10.8"
  }
 },
 "nbformat": 4,
 "nbformat_minor": 2
}
